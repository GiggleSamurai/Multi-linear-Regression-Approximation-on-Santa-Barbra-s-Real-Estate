{
 "cells": [
  {
   "cell_type": "markdown",
   "id": "45cb3bc1",
   "metadata": {},
   "source": [
    "# Project Summary"
   ]
  },
  {
   "cell_type": "markdown",
   "id": "af76d553",
   "metadata": {},
   "source": [
    "## Project Purpose\n",
    "\n",
    "California real estate is becoming the nation's hot topic, since the recent surge in prices and inflation. In Santa Baraba County, houses can be in the range of \\\\$500,000 to $50,000,000, but what actually determines this housing price tag? Using machine learning we are going to find out what is going to quantify this information and find out what is the exact cost base on a few basic parameters, such as square footage, location, number of bedrooms, bathrooms, lot size, built year, etc. This project is a multi-linear regression machine learning model that can predict Santa Barbara housing data, including a user interface application in the Jupyter lab, data visualization, and insightful interpretation result."
   ]
  },
  {
   "cell_type": "markdown",
   "id": "8745b602",
   "metadata": {},
   "source": [
    "## Datasets"
   ]
  },
  {
   "cell_type": "code",
   "execution_count": 1,
   "id": "bc356e4c",
   "metadata": {},
   "outputs": [
    {
     "name": "stdout",
     "output_type": "stream",
     "text": [
      "WARNING *** OLE2 inconsistency: SSCS size is 0 but SSAT size is non-zero\n"
     ]
    },
    {
     "data": {
      "text/html": [
       "<div>\n",
       "<style scoped>\n",
       "    .dataframe tbody tr th:only-of-type {\n",
       "        vertical-align: middle;\n",
       "    }\n",
       "\n",
       "    .dataframe tbody tr th {\n",
       "        vertical-align: top;\n",
       "    }\n",
       "\n",
       "    .dataframe thead th {\n",
       "        text-align: right;\n",
       "    }\n",
       "</style>\n",
       "<table border=\"1\" class=\"dataframe\">\n",
       "  <thead>\n",
       "    <tr style=\"text-align: right;\">\n",
       "      <th></th>\n",
       "      <th>Bedrooms</th>\n",
       "      <th>BathRooms</th>\n",
       "      <th>SqFootage</th>\n",
       "      <th>YearBuilt</th>\n",
       "      <th>YearEff</th>\n",
       "      <th>LotSize</th>\n",
       "      <th>PropUse</th>\n",
       "      <th>SitusCity</th>\n",
       "      <th>SalePrice K</th>\n",
       "    </tr>\n",
       "  </thead>\n",
       "  <tbody>\n",
       "    <tr>\n",
       "      <th>0</th>\n",
       "      <td>3.0</td>\n",
       "      <td>2.00</td>\n",
       "      <td>1232.0</td>\n",
       "      <td>1962.0</td>\n",
       "      <td>1995.0</td>\n",
       "      <td>6098.40</td>\n",
       "      <td>Single Family Residence</td>\n",
       "      <td>CARPINTERIA</td>\n",
       "      <td>1615.0</td>\n",
       "    </tr>\n",
       "    <tr>\n",
       "      <th>1</th>\n",
       "      <td>4.0</td>\n",
       "      <td>2.25</td>\n",
       "      <td>1944.0</td>\n",
       "      <td>1961.0</td>\n",
       "      <td>1962.0</td>\n",
       "      <td>11761.20</td>\n",
       "      <td>Single Family Residence</td>\n",
       "      <td>CARPINTERIA</td>\n",
       "      <td>1500.0</td>\n",
       "    </tr>\n",
       "    <tr>\n",
       "      <th>2</th>\n",
       "      <td>4.0</td>\n",
       "      <td>2.00</td>\n",
       "      <td>1408.0</td>\n",
       "      <td>1961.0</td>\n",
       "      <td>1975.0</td>\n",
       "      <td>7405.20</td>\n",
       "      <td>Single Family Residence</td>\n",
       "      <td>CARPINTERIA</td>\n",
       "      <td>1350.0</td>\n",
       "    </tr>\n",
       "    <tr>\n",
       "      <th>3</th>\n",
       "      <td>3.0</td>\n",
       "      <td>3.00</td>\n",
       "      <td>2338.0</td>\n",
       "      <td>1963.0</td>\n",
       "      <td>2005.0</td>\n",
       "      <td>10890.00</td>\n",
       "      <td>Single Family Residence</td>\n",
       "      <td>CARPINTERIA</td>\n",
       "      <td>1230.0</td>\n",
       "    </tr>\n",
       "    <tr>\n",
       "      <th>5</th>\n",
       "      <td>4.0</td>\n",
       "      <td>1.75</td>\n",
       "      <td>1300.0</td>\n",
       "      <td>1963.0</td>\n",
       "      <td>1964.0</td>\n",
       "      <td>8712.00</td>\n",
       "      <td>Single Family Residence</td>\n",
       "      <td>CARPINTERIA</td>\n",
       "      <td>1382.5</td>\n",
       "    </tr>\n",
       "    <tr>\n",
       "      <th>...</th>\n",
       "      <td>...</td>\n",
       "      <td>...</td>\n",
       "      <td>...</td>\n",
       "      <td>...</td>\n",
       "      <td>...</td>\n",
       "      <td>...</td>\n",
       "      <td>...</td>\n",
       "      <td>...</td>\n",
       "      <td>...</td>\n",
       "    </tr>\n",
       "    <tr>\n",
       "      <th>2279</th>\n",
       "      <td>3.0</td>\n",
       "      <td>4.00</td>\n",
       "      <td>5241.0</td>\n",
       "      <td>2001.0</td>\n",
       "      <td>2001.0</td>\n",
       "      <td>1093791.60</td>\n",
       "      <td>Single Family Residence</td>\n",
       "      <td>SANTA BARBARA</td>\n",
       "      <td>6785.0</td>\n",
       "    </tr>\n",
       "    <tr>\n",
       "      <th>2280</th>\n",
       "      <td>3.0</td>\n",
       "      <td>3.00</td>\n",
       "      <td>3904.0</td>\n",
       "      <td>1973.0</td>\n",
       "      <td>1990.0</td>\n",
       "      <td>63162.00</td>\n",
       "      <td>Single Family Residence</td>\n",
       "      <td>SANTA BARBARA</td>\n",
       "      <td>4975.0</td>\n",
       "    </tr>\n",
       "    <tr>\n",
       "      <th>2281</th>\n",
       "      <td>4.0</td>\n",
       "      <td>4.00</td>\n",
       "      <td>3299.0</td>\n",
       "      <td>1996.0</td>\n",
       "      <td>1996.0</td>\n",
       "      <td>41251.32</td>\n",
       "      <td>Single Family Residence</td>\n",
       "      <td>SANTA BARBARA</td>\n",
       "      <td>4100.0</td>\n",
       "    </tr>\n",
       "    <tr>\n",
       "      <th>2282</th>\n",
       "      <td>1.0</td>\n",
       "      <td>1.00</td>\n",
       "      <td>860.0</td>\n",
       "      <td>1965.0</td>\n",
       "      <td>1966.0</td>\n",
       "      <td>48787.20</td>\n",
       "      <td>Single Family Residence</td>\n",
       "      <td>SANTA BARBARA</td>\n",
       "      <td>2650.0</td>\n",
       "    </tr>\n",
       "    <tr>\n",
       "      <th>2284</th>\n",
       "      <td>4.0</td>\n",
       "      <td>3.50</td>\n",
       "      <td>4094.0</td>\n",
       "      <td>1989.0</td>\n",
       "      <td>1990.0</td>\n",
       "      <td>40510.80</td>\n",
       "      <td>Single Family Residence</td>\n",
       "      <td>SANTA BARBARA</td>\n",
       "      <td>5250.0</td>\n",
       "    </tr>\n",
       "  </tbody>\n",
       "</table>\n",
       "<p>1886 rows × 9 columns</p>\n",
       "</div>"
      ],
      "text/plain": [
       "      Bedrooms  BathRooms  SqFootage  YearBuilt  YearEff     LotSize  \\\n",
       "0          3.0       2.00     1232.0     1962.0   1995.0     6098.40   \n",
       "1          4.0       2.25     1944.0     1961.0   1962.0    11761.20   \n",
       "2          4.0       2.00     1408.0     1961.0   1975.0     7405.20   \n",
       "3          3.0       3.00     2338.0     1963.0   2005.0    10890.00   \n",
       "5          4.0       1.75     1300.0     1963.0   1964.0     8712.00   \n",
       "...        ...        ...        ...        ...      ...         ...   \n",
       "2279       3.0       4.00     5241.0     2001.0   2001.0  1093791.60   \n",
       "2280       3.0       3.00     3904.0     1973.0   1990.0    63162.00   \n",
       "2281       4.0       4.00     3299.0     1996.0   1996.0    41251.32   \n",
       "2282       1.0       1.00      860.0     1965.0   1966.0    48787.20   \n",
       "2284       4.0       3.50     4094.0     1989.0   1990.0    40510.80   \n",
       "\n",
       "                      PropUse      SitusCity  SalePrice K  \n",
       "0     Single Family Residence    CARPINTERIA       1615.0  \n",
       "1     Single Family Residence    CARPINTERIA       1500.0  \n",
       "2     Single Family Residence    CARPINTERIA       1350.0  \n",
       "3     Single Family Residence    CARPINTERIA       1230.0  \n",
       "5     Single Family Residence    CARPINTERIA       1382.5  \n",
       "...                       ...            ...          ...  \n",
       "2279  Single Family Residence  SANTA BARBARA       6785.0  \n",
       "2280  Single Family Residence  SANTA BARBARA       4975.0  \n",
       "2281  Single Family Residence  SANTA BARBARA       4100.0  \n",
       "2282  Single Family Residence  SANTA BARBARA       2650.0  \n",
       "2284  Single Family Residence  SANTA BARBARA       5250.0  \n",
       "\n",
       "[1886 rows x 9 columns]"
      ]
     },
     "execution_count": 1,
     "metadata": {},
     "output_type": "execute_result"
    }
   ],
   "source": [
    "import pandas as pd\n",
    "import warnings\n",
    "warnings.filterwarnings('ignore')\n",
    "files = 'Santa Barabara.xls'\n",
    "df = pd.read_excel(files)\n",
    "dfselect = df[['Bedrooms','BathRooms', 'SqFootage', 'YearBuilt', 'YearEff','LotSize','PropUse','SitusCity','SalePrice']]\n",
    "cleandf = dfselect.dropna()\n",
    "cleandf['SalePrice'] = cleandf['SalePrice'].replace(\"[$,]\", \"\", regex=True).astype(int)\n",
    "cleandf['SalePrice K'] = cleandf['SalePrice']/1000\n",
    "cleandf = cleandf[cleandf['SalePrice K']<40000]\n",
    "cleandf = cleandf.drop(columns=['SalePrice'])\n",
    "cleandf = cleandf[cleandf['PropUse']!='Vacant Residential Land']\n",
    "cleandf"
   ]
  },
  {
   "cell_type": "markdown",
   "id": "9b9dc666",
   "metadata": {},
   "source": [
    "The data set was collected from Santa Baraba County, data set was downloaded as .xls file. The data has many null values and missing data. It was removed during the data cleaning process. There were also a few outliers above the 40 million dollars range, which was also removed since it can skew the majority of the population. The “SalesPrice” column was converted from string to integer. The 7 digit millions were too long to work with, it was reduced to K, Ex: 1M -> 1000K. After the cleaning, there were 1886 data left for this project."
   ]
  },
  {
   "cell_type": "markdown",
   "id": "e889c205",
   "metadata": {},
   "source": [
    "## Data Product Code"
   ]
  },
  {
   "cell_type": "code",
   "execution_count": 2,
   "id": "483e7f18",
   "metadata": {},
   "outputs": [
    {
     "data": {
      "text/plain": [
       "LinearRegression()"
      ]
     },
     "execution_count": 2,
     "metadata": {},
     "output_type": "execute_result"
    }
   ],
   "source": [
    "import sklearn\n",
    "import math\n",
    "import numpy as np\n",
    "import matplotlib.pyplot as plt\n",
    "import seaborn as sns\n",
    "\n",
    "onehotdf = pd.get_dummies(cleandf[['PropUse', 'SitusCity']], columns=['PropUse', 'SitusCity'], drop_first=True)\n",
    "y_data = cleandf['SalePrice K']\n",
    "\n",
    "from sklearn.preprocessing import MinMaxScaler\n",
    "data2scale = cleandf.drop(columns=['PropUse','SitusCity','SalePrice K'])\n",
    "scaler = MinMaxScaler().fit(data2scale)\n",
    "scaleX = scaler.transform(data2scale)\n",
    "X = np.concatenate([scaleX, onehotdf], axis=1)\n",
    "\n",
    "from sklearn.model_selection import train_test_split\n",
    "x_train, x_test, y_train, y_test = train_test_split(X,y_data, random_state=30)\n",
    "from sklearn.linear_model import LinearRegression\n",
    "LR = LinearRegression()\n",
    "LR.fit(x_train,y_train)"
   ]
  },
  {
   "cell_type": "code",
   "execution_count": 3,
   "id": "2c722048",
   "metadata": {},
   "outputs": [
    {
     "data": {
      "text/plain": [
       "array([[0.5       , 0.2173913 , 0.12682319, ..., 0.        , 0.        ,\n",
       "        0.        ],\n",
       "       [0.3       , 0.17391304, 0.08573461, ..., 0.        , 0.        ,\n",
       "        0.        ],\n",
       "       [0.2       , 0.2173913 , 0.18071861, ..., 0.        , 0.        ,\n",
       "        0.        ],\n",
       "       ...,\n",
       "       [0.3       , 0.2173913 , 0.0942725 , ..., 0.        , 0.        ,\n",
       "        0.        ],\n",
       "       [0.3       , 0.2173913 , 0.18641053, ..., 0.        , 0.        ,\n",
       "        0.        ],\n",
       "       [0.3       , 0.2173913 , 0.13367129, ..., 0.        , 1.        ,\n",
       "        0.        ]])"
      ]
     },
     "execution_count": 3,
     "metadata": {},
     "output_type": "execute_result"
    }
   ],
   "source": [
    "x_train"
   ]
  },
  {
   "cell_type": "markdown",
   "id": "2569e12a",
   "metadata": {},
   "source": [
    "This code provide data cleaning, feature engineerging, split train/test data set and fit the multi-linear regression model which is the core algorithinm of this project. The data was scaled and standardized before inputting into the machine learning model, it provided the necessary functionality of predictive outputs and weight the data equally for analysis purpose. The train data set is use as inputs of this model, the test set is hidden from the training, which were used as a verification method after."
   ]
  },
  {
   "cell_type": "markdown",
   "id": "ab40d68c",
   "metadata": {},
   "source": [
    "## Hypothesis verification"
   ]
  },
  {
   "cell_type": "code",
   "execution_count": 4,
   "id": "6ffb0a27",
   "metadata": {},
   "outputs": [
    {
     "data": {
      "text/html": [
       "<div>\n",
       "<style scoped>\n",
       "    .dataframe tbody tr th:only-of-type {\n",
       "        vertical-align: middle;\n",
       "    }\n",
       "\n",
       "    .dataframe tbody tr th {\n",
       "        vertical-align: top;\n",
       "    }\n",
       "\n",
       "    .dataframe thead th {\n",
       "        text-align: right;\n",
       "    }\n",
       "</style>\n",
       "<table border=\"1\" class=\"dataframe\">\n",
       "  <thead>\n",
       "    <tr style=\"text-align: right;\">\n",
       "      <th></th>\n",
       "      <th>Factors</th>\n",
       "      <th>Coefficients</th>\n",
       "    </tr>\n",
       "  </thead>\n",
       "  <tbody>\n",
       "    <tr>\n",
       "      <th>0</th>\n",
       "      <td>SqFootage</td>\n",
       "      <td>16629.555266</td>\n",
       "    </tr>\n",
       "    <tr>\n",
       "      <th>1</th>\n",
       "      <td>Bedrooms</td>\n",
       "      <td>3855.537874</td>\n",
       "    </tr>\n",
       "    <tr>\n",
       "      <th>2</th>\n",
       "      <td>YearBuilt</td>\n",
       "      <td>655.047295</td>\n",
       "    </tr>\n",
       "    <tr>\n",
       "      <th>3</th>\n",
       "      <td>Location</td>\n",
       "      <td>576.315367</td>\n",
       "    </tr>\n",
       "    <tr>\n",
       "      <th>4</th>\n",
       "      <td>BathRooms</td>\n",
       "      <td>566.380358</td>\n",
       "    </tr>\n",
       "  </tbody>\n",
       "</table>\n",
       "</div>"
      ],
      "text/plain": [
       "     Factors  Coefficients\n",
       "0  SqFootage  16629.555266\n",
       "1   Bedrooms   3855.537874\n",
       "2  YearBuilt    655.047295\n",
       "3   Location    576.315367\n",
       "4  BathRooms    566.380358"
      ]
     },
     "execution_count": 4,
     "metadata": {},
     "output_type": "execute_result"
    }
   ],
   "source": [
    "x_cols = data2scale.columns.tolist() + onehotdf.columns.tolist()\n",
    "coef_df = pd.DataFrame({\"Factors\":x_cols,\"Coefficients\":abs(LR.coef_)})\n",
    "coef_summary_df = coef_df[0:6]\n",
    "proptype_mean = coef_df[6:8]['Coefficients'].mean()\n",
    "location_mean = coef_df[8:]['Coefficients'].mean()\n",
    "coef_summary_df = coef_summary_df.append({'Factors':'PropType','Coefficients':proptype_mean}, ignore_index=True)\n",
    "coef_summary_df = coef_summary_df.append({'Factors':'Location','Coefficients':location_mean}, ignore_index=True)\n",
    "coef_summary_df.sort_values(by = 'Coefficients', ascending = False).reset_index(drop=True).head()"
   ]
  },
  {
   "cell_type": "markdown",
   "id": "6b1ceac5",
   "metadata": {},
   "source": [
    "location seems to always contribute important factors to housing prices. A reasonable initial hypothesis was that \"location is the most important factor that influences real estate prices\". From the finding, it was conclude that the top 5 most influential factors are Square Footage, numbers of bedrooms,year built, location, numbers of bathrooms, number of bathrooms, and . Factors are in sequential order most to least. It was verfied that the original hypothesis was incorrect that location is the main role of influences. Beside the hypothesis, from the summary pie chart below, Square Footage factor was conclude that it contribute close to 70% of the housing price."
   ]
  },
  {
   "cell_type": "markdown",
   "id": "28fe44fe",
   "metadata": {},
   "source": [
    "## Effective Visualizations and Reporting"
   ]
  },
  {
   "cell_type": "code",
   "execution_count": 5,
   "id": "bd07dcae",
   "metadata": {},
   "outputs": [
    {
     "data": {
      "text/plain": [
       "<AxesSubplot:>"
      ]
     },
     "execution_count": 5,
     "metadata": {},
     "output_type": "execute_result"
    },
    {
     "data": {
      "image/png": "[encoded data removed]",
      "text/plain": [
       "<Figure size 432x288 with 1 Axes>"
      ]
     },
     "metadata": {
      "needs_background": "light"
     },
     "output_type": "display_data"
    }
   ],
   "source": [
    "cleandf.boxplot(column=['SalePrice K'])"
   ]
  },
  {
   "cell_type": "markdown",
   "id": "f6cfb608",
   "metadata": {},
   "source": [
    "Using the box plot, there were a few outliers that was spoted. Prices that were above 40 millions were outliers which was removed during cleaning process. Visualizationfrom help to analysis the data more effecitvely. This would not be as clear if the data was read one by one, there are close to 2000 rows in this dataset."
   ]
  },
  {
   "cell_type": "code",
   "execution_count": 6,
   "id": "ff482e97",
   "metadata": {},
   "outputs": [
    {
     "data": {
      "text/plain": [
       "<seaborn.axisgrid.PairGrid at 0x2249b296a60>"
      ]
     },
     "execution_count": 6,
     "metadata": {},
     "output_type": "execute_result"
    },
    {
     "data": {
      "image/png": "[encoded data removed]",
      "text/plain": [
       "<Figure size 1260x180 with 7 Axes>"
      ]
     },
     "metadata": {
      "needs_background": "light"
     },
     "output_type": "display_data"
    }
   ],
   "source": [
    "sns.pairplot(cleandf,x_vars=['BathRooms', 'SqFootage', 'YearBuilt', 'YearEff','LotSize','PropUse','SitusCity'], y_vars=['SalePrice K'],)"
   ]
  },
  {
   "cell_type": "markdown",
   "id": "01e538bc",
   "metadata": {},
   "source": [
    "Using the pairplot, it visually indicate there was a trend in the data. All the parameters seems to affect the price some way, some is more, and some is less. Nonetheless, some kind of geometric pattern was observable. Which indicate the data was not random."
   ]
  },
  {
   "cell_type": "code",
   "execution_count": 7,
   "id": "9a0faf5a",
   "metadata": {},
   "outputs": [
    {
     "data": {
      "image/png": "[encoded data removed]",
      "text/plain": [
       "<Figure size 432x288 with 1 Axes>"
      ]
     },
     "metadata": {},
     "output_type": "display_data"
    }
   ],
   "source": [
    "coef_df.sort_values(by = 'Coefficients', ascending = False).reset_index(drop=True)\n",
    "coef_summary_df = coef_df[0:6]\n",
    "proptype_mean = coef_df[6:8]['Coefficients'].mean()\n",
    "location_mean = coef_df[8:]['Coefficients'].mean()\n",
    "coef_summary_df = coef_summary_df.append({'Factors':'PropType','Coefficients':proptype_mean}, ignore_index=True)\n",
    "coef_summary_df = coef_summary_df.append({'Factors':'Location','Coefficients':location_mean}, ignore_index=True)\n",
    "labels = coef_summary_df['Factors']\n",
    "values = coef_summary_df['Coefficients']\n",
    "fig1, ax1 = plt.subplots()\n",
    "ax1.pie(values, labels=labels,autopct='%1.1f%%', startangle=90 )\n",
    "ax1.axis('equal')\n",
    "plt.show()"
   ]
  },
  {
   "cell_type": "markdown",
   "id": "48870ec1",
   "metadata": {},
   "source": [
    "This is final summary pie chart after the model is complete. It is immediately obvious to spot the quantity relationship between different factors and the contribution to the price. Surprisingly, there were only 4 factors that influence 99% of the price, the rest affect less than 1%."
   ]
  },
  {
   "cell_type": "markdown",
   "id": "d2145d4a",
   "metadata": {},
   "source": [
    "## Accuracy analysis"
   ]
  },
  {
   "cell_type": "code",
   "execution_count": 8,
   "id": "56ab7bef",
   "metadata": {},
   "outputs": [
    {
     "data": {
      "text/plain": [
       "<matplotlib.legend.Legend at 0x2249b660dc0>"
      ]
     },
     "execution_count": 8,
     "metadata": {},
     "output_type": "execute_result"
    },
    {
     "data": {
      "image/png": "[encoded data removed]",
      "text/plain": [
       "<Figure size 432x288 with 1 Axes>"
      ]
     },
     "metadata": {
      "needs_background": "light"
     },
     "output_type": "display_data"
    }
   ],
   "source": [
    "import matplotlib.pyplot as plt\n",
    "y_prediction = LR.predict(x_test)\n",
    "y_comparedf = pd.DataFrame({'y-hat':y_prediction.round(),'y_test':y_test})\n",
    "plt.figure()\n",
    "plt.scatter(x = y_comparedf['y_test'],y = y_comparedf['y-hat'],label='y-hat (Predict Price)', c='red')\n",
    "plt.scatter(x = y_comparedf['y_test'],y = y_comparedf['y_test'],label='y_test (Acutal Price)', c='green')\n",
    "plt.legend()"
   ]
  },
  {
   "cell_type": "markdown",
   "id": "308a4c2d",
   "metadata": {},
   "source": [
    "This chart plot against the prediction prices to the actual prices. It helps to understand how well the model does visually. The model is not perfect, there were residuals and deviation between prediction versus reailty. Nontheless, it does a good job capture the pattern, since the mean of the prediction seems to be align with the prices of the reailty. In this prespective, the model were successful."
   ]
  },
  {
   "cell_type": "code",
   "execution_count": 10,
   "id": "8f3080e8-8745-40f0-8fd3-c16eacacce48",
   "metadata": {},
   "outputs": [
    {
     "data": {
      "text/plain": [
       "0.6488986184297302"
      ]
     },
     "execution_count": 10,
     "metadata": {},
     "output_type": "execute_result"
    }
   ],
   "source": [
    "LR.score(x_test, y_test)"
   ]
  },
  {
   "cell_type": "markdown",
   "id": "247a6fa4",
   "metadata": {},
   "source": [
    "This number was the R-square score, it is 1 minus sum of residual square value. Generally speaking, any value above 50% indicate the model is effective. The closer to 1 to less error the model has. However, it is not too meaningful all by itself, this value will be most useful if compare to two or more different model with the same goal. The R-square score value can give an indication on which model perfrom the best."
   ]
  },
  {
   "cell_type": "markdown",
   "id": "14603cdb",
   "metadata": {},
   "source": [
    "## Application Testing\n",
    "For testing to confirm the functionality of the code, a white box approach of unit testing was done. It ensure each segment of the code block work as intended. Lastly, a blackbox approach of usability was done for the interface application. Ensure the application is smooth and usable."
   ]
  },
  {
   "cell_type": "code",
   "execution_count": 11,
   "id": "6b3f4a84-8726-4373-bbc0-cbd8b9c807a2",
   "metadata": {},
   "outputs": [
    {
     "name": "stdout",
     "output_type": "stream",
     "text": [
      "---------- APPLICATION INTERFACE ---------- \n",
      "How many Bedrooms?(int)\n"
     ]
    },
    {
     "name": "stdin",
     "output_type": "stream",
     "text": [
      " 3\n"
     ]
    },
    {
     "name": "stdout",
     "output_type": "stream",
     "text": [
      "How many Bathrooms?(int or float)\n"
     ]
    },
    {
     "name": "stdin",
     "output_type": "stream",
     "text": [
      " 2\n"
     ]
    },
    {
     "name": "stdout",
     "output_type": "stream",
     "text": [
      "What is the Sqfootage?(int)\n"
     ]
    },
    {
     "name": "stdin",
     "output_type": "stream",
     "text": [
      " 2000\n"
     ]
    },
    {
     "name": "stdout",
     "output_type": "stream",
     "text": [
      "What is the lot size footage?(int)\n"
     ]
    },
    {
     "name": "stdin",
     "output_type": "stream",
     "text": [
      " 0\n"
     ]
    },
    {
     "name": "stdout",
     "output_type": "stream",
     "text": [
      "Enter 1 for Single Family Residence, 2 for Residential 2-4 Units:\n"
     ]
    },
    {
     "name": "stdin",
     "output_type": "stream",
     "text": [
      " 1\n"
     ]
    },
    {
     "name": "stdout",
     "output_type": "stream",
     "text": [
      "Enter the number of which city, 1:CARPINTERIA, 2:GOLETA, 3:GUADALUPE, 4:LOMPOC, 5:ALAMOS, 6:LOS OLIVOS, 7:MONTECITO, 8:NEW CUYAMA, 9:ORCUTT, 10:SANTA BARBARA, 11:SANTA MARIA, 12:SANTA YNEZ, 13:SISQUOC, 14:SOLVANG, 15:SUMMERLAND\n"
     ]
    },
    {
     "name": "stdin",
     "output_type": "stream",
     "text": [
      " 11\n"
     ]
    },
    {
     "name": "stdout",
     "output_type": "stream",
     "text": [
      "Enter Year Built:(int)\n"
     ]
    },
    {
     "name": "stdin",
     "output_type": "stream",
     "text": [
      " 1980\n"
     ]
    },
    {
     "name": "stdout",
     "output_type": "stream",
     "text": [
      "Enter Effective Year:(int)\n"
     ]
    },
    {
     "name": "stdin",
     "output_type": "stream",
     "text": [
      " 2030\n"
     ]
    },
    {
     "name": "stdout",
     "output_type": "stream",
     "text": [
      "---------- MODEL RESULTS ---------- \n",
      "The Model Prediction Price is $111,200.00\n"
     ]
    }
   ],
   "source": [
    "# Application Interface\n",
    "\n",
    "print('---------- APPLICATION INTERFACE ---------- ')\n",
    "print('How many Bedrooms?(int)')\n",
    "bedroom = int(input())\n",
    "print('How many Bathrooms?(int or float)')\n",
    "bathroom = float(input())\n",
    "print('What is the Sqfootage?(int)')\n",
    "sqft = int(input())\n",
    "print('What is the lot size footage?(int)')\n",
    "lotsize = int(input())\n",
    "print('Enter 1 for Single Family Residence, 2 for Residential 2-4 Units:')\n",
    "prop = int(input())\n",
    "print('Enter the number of which city, 1:CARPINTERIA, 2:GOLETA, 3:GUADALUPE, 4:LOMPOC, 5:ALAMOS, 6:LOS OLIVOS, 7:MONTECITO, 8:NEW CUYAMA, 9:ORCUTT, 10:SANTA BARBARA, 11:SANTA MARIA, 12:SANTA YNEZ, 13:SISQUOC, 14:SOLVANG, 15:SUMMERLAND')\n",
    "city = int(input())\n",
    "print('Enter Year Built:(int)')\n",
    "yearbuilt = int(input())\n",
    "print('Enter Effective Year:(int)')\n",
    "yeareff = int(input())\n",
    "print('---------- MODEL RESULTS ---------- ')\n",
    "\n",
    "if city == 1:\n",
    "    cityvalue = 'CARPINTERIA'\n",
    "elif city == 2:\n",
    "    cityvalue = 'GOLETA'\n",
    "elif city == 3:\n",
    "    cityvalue = 'GUADALUPE'\n",
    "elif city == 4:\n",
    "    cityvalue = 'LOMPOC'\n",
    "elif city == 5:\n",
    "    cityvalue = 'ALAMOS'\n",
    "elif city == 6:\n",
    "    cityvalue = 'LOS OLIVOS'\n",
    "elif city == 7:\n",
    "    cityvalue = 'MONTECITO'   \n",
    "elif city == 8:\n",
    "    cityvalue = 'NEW CUYAMA'   \n",
    "elif city == 9:\n",
    "    cityvalue = 'ORCUTT'   \n",
    "elif city == 10:\n",
    "    cityvalue = 'SANTA BARBARA'   \n",
    "elif city == 11:\n",
    "    cityvalue = 'SANTA MARIA'\n",
    "elif city == 12:\n",
    "    cityvalue = 'SANTA YNEZ'\n",
    "elif city == 13:\n",
    "    cityvalue = 'SISQUOC'\n",
    "elif city == 14:\n",
    "    cityvalue = 'SOLVANG'\n",
    "elif city == 15:\n",
    "    cityvalue = 'SUMMERLAND'\n",
    "\n",
    "if prop == 1:\n",
    "    propvalue = 'Single Family Residence'\n",
    "elif prop == 2:\n",
    "    propvalue = 'Residential 2-4 Units'\n",
    "    \n",
    "new_row = {'Bedrooms': bedroom, 'BathRooms': bathroom, 'SqFootage': sqft, 'YearBuilt': yearbuilt, 'YearEff': yeareff,'LotSize': lotsize,'PropUse': propvalue,'SitusCity': cityvalue,'SalePrice K': 0}\n",
    "cleandf = cleandf.append(new_row, ignore_index=True)\n",
    "onehotdf = pd.get_dummies(cleandf[['PropUse', 'SitusCity']], columns=['PropUse', 'SitusCity'], drop_first=True).iloc[-1]\n",
    "row2scale = cleandf.drop(columns=['PropUse','SitusCity','SalePrice K']).iloc[-1]\n",
    "scaleX = scaler.transform([row2scale])\n",
    "userX = scaleX.tolist()[0] + onehotdf.tolist()\n",
    "\n",
    "yhatprice = LR.predict([userX])[0].round()\n",
    "print('The Model Prediction Price is '+ \"${:,.2f}\".format(yhatprice*100))"
   ]
  },
  {
   "cell_type": "markdown",
   "id": "d596be27",
   "metadata": {},
   "source": [
    "## Application Files\n",
    "Software Requirements:\n",
    "- Any OS\n",
    "- Python 3.9\n",
    "- Jupyter Lab\n",
    "- Python Libraries: pandas, sklearn, math, numpy, matplotlib, seaborn, xlrd\n",
    "- Main Application Files: Real_Estate_ML/main_lab.ipynb running using Jupyter Lab, data is Real_Estate_ML/Santa Barabara.xls.\n",
    "- Extra Content: Real_Estate_ML/Project_Summary.ipynb content same information in this current document."
   ]
  },
  {
   "cell_type": "markdown",
   "id": "1ee99505",
   "metadata": {},
   "source": [
    "## User’s Guide\n",
    "Brief manual for the installation and use of the application and all steps necessary to establish an environment capable of running the application and producing the required results.\n",
    "\n",
    "1. Install Python 3.9 https://www.python.org/downloads/ in your OS.\n",
    "3. In CDM enter:\n",
    "    pip install jupyterlab\n",
    "4. Unzip and extract the \"Real_estate_ML\" file to a perfer location.\n",
    "5. Open Jupyter Lab browser in CMD enter:\n",
    "    jupyter lab\n",
    "6. Open \"main_lab.ipynb\" in the Jupyter Lab browser.\n",
    "7. Run the first cell to install all the Python libraries: pandas, sklearn, math, numpy, matplotlib, seaborn, xlrd\n",
    "8. Run all cells.\n",
    "9. Enter your housing information at the last cell.\n",
    "\n",
    "If there is any trouble installing the jupyter lab, please check out https://jupyter.org/install. You may extract the \"main_lab.ipynb\" and \"Santa Barabara.xls\" to a new files, just make sure run the first cell and pip install all the libraries. Anaconda version of Jupyter Lab may provide a simpler install experience."
   ]
  },
  {
   "cell_type": "markdown",
   "id": "b56c0f04",
   "metadata": {},
   "source": [
    "## References and Sources\n",
    "There are no citations or quotes used.\n"
   ]
  }
 ],
 "metadata": {
  "kernelspec": {
   "display_name": "Python 3 (ipykernel)",
   "language": "python",
   "name": "python3"
  },
  "language_info": {
   "codemirror_mode": {
    "name": "ipython",
    "version": 3
   },
   "file_extension": ".py",
   "mimetype": "text/x-python",
   "name": "python",
   "nbconvert_exporter": "python",
   "pygments_lexer": "ipython3",
   "version": "3.9.6"
  }
 },
 "nbformat": 4,
 "nbformat_minor": 5
}
